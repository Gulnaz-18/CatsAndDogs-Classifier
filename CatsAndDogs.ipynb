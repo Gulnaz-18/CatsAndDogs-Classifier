{
  "nbformat": 4,
  "nbformat_minor": 0,
  "metadata": {
    "colab": {
      "provenance": [],
      "collapsed_sections": [],
      "mount_file_id": "1sj0T_d7PfgJK7OHWOyHMltwzN6hpfJVj",
      "authorship_tag": "ABX9TyNR4McdsAMBlSC1fzxdqfQl",
      "include_colab_link": true
    },
    "kernelspec": {
      "name": "python3",
      "display_name": "Python 3"
    },
    "language_info": {
      "name": "python"
    }
  },
  "cells": [
    {
      "cell_type": "markdown",
      "metadata": {
        "id": "view-in-github",
        "colab_type": "text"
      },
      "source": [
        "<a href=\"https://colab.research.google.com/github/Gulnaz-18/CatsAndDogs-Classifier/blob/main/CatsAndDogs.ipynb\" target=\"_parent\"><img src=\"https://colab.research.google.com/assets/colab-badge.svg\" alt=\"Open In Colab\"/></a>"
      ]
    },
    {
      "cell_type": "code",
      "execution_count": null,
      "metadata": {
        "id": "N9z2XR0KY47B"
      },
      "outputs": [],
      "source": [
        "#importing the Keras libraries\n",
        "from keras.models import Sequential\n",
        "from keras.layers import Conv2D\n",
        "from keras.layers import MaxPooling2D\n",
        "from keras.layers import Flatten\n",
        "from keras.layers import Dense "
      ]
    },
    {
      "cell_type": "code",
      "source": [
        "# Initialising the CNN\n",
        "classifier = Sequential ()\n",
        "# Step 1 - Convolution\n",
        "classifier.add(Conv2D(32, (3,3), input_shape = (64, 64, 3), activation = 'relu'))\n",
        "#adding second convolutional layer \n",
        "classifier.add(Conv2D(32, (3,3), activation = 'relu'))\n",
        "classifier.add(MaxPooling2D(pool_size= (2,2)))"
      ],
      "metadata": {
        "id": "CpR9gAugbgSW"
      },
      "execution_count": null,
      "outputs": []
    },
    {
      "cell_type": "code",
      "source": [
        "#Step 3 - Flattening\n",
        "classifier.add(Flatten())\n",
        "\n",
        "#Step 4 - Full connection\n",
        "classifier.add(Dense(units = 128, activation = 'relu'))\n",
        "classifier.add(Dense(units = 1, activation = 'sigmoid'))\n"
      ],
      "metadata": {
        "id": "caCssRRMc_6s"
      },
      "execution_count": null,
      "outputs": []
    },
    {
      "cell_type": "code",
      "source": [
        "#compiling the CNN\n",
        "classifier.compile(optimizer= 'adam', loss = 'binary_crossentropy', metrics = ['accuracy'])"
      ],
      "metadata": {
        "id": "i-eJWkT5d228"
      },
      "execution_count": null,
      "outputs": []
    },
    {
      "cell_type": "code",
      "source": [
        "# Part 2 - Fitting the CNN to the images \n",
        "\n",
        "from keras.preprocessing.image import ImageDataGenerator\n",
        "train_datagen = ImageDataGenerator(rescale = 1./255, \n",
        "                                   shear_range = 0.2, zoom_range = 0.2, horizontal_flip= True)"
      ],
      "metadata": {
        "id": "2mIc5noIe4Sm"
      },
      "execution_count": null,
      "outputs": []
    },
    {
      "cell_type": "code",
      "source": [
        "training_set = train_datagen.flow_from_directory('/content/drive/MyDrive/dataset/train_set', target_size=(64, 64), batch_size = 32,class_mode = 'binary')"
      ],
      "metadata": {
        "colab": {
          "base_uri": "https://localhost:8080/"
        },
        "id": "1QdvhF3fgFuG",
        "outputId": "f3b95e18-ca95-4d15-c474-07deb57959df"
      },
      "execution_count": null,
      "outputs": [
        {
          "output_type": "stream",
          "name": "stdout",
          "text": [
            "Found 13170 images belonging to 1 classes.\n"
          ]
        }
      ]
    },
    {
      "cell_type": "code",
      "source": [
        "test_datagen = ImageDataGenerator(rescale = 1./255)\n",
        "test_set = test_datagen.flow_from_directory('//content/drive/MyDrive/dataset/test_set', target_size=(64, 64), batch_size = 32,class_mode = 'binary')"
      ],
      "metadata": {
        "id": "0TCMnV1c501A",
        "colab": {
          "base_uri": "https://localhost:8080/"
        },
        "outputId": "e772a36c-280f-4ec2-af68-dd9ff6a4b251"
      },
      "execution_count": null,
      "outputs": [
        {
          "output_type": "stream",
          "name": "stdout",
          "text": [
            "Found 12500 images belonging to 1 classes.\n"
          ]
        }
      ]
    },
    {
      "cell_type": "code",
      "source": [
        "classifier.fit_generator(training_set, \n",
        "                         steps_per_epoch= 13170,\n",
        "                         epochs = 25,\n",
        "                         validation_data=test_set,\n",
        "                         validation_steps=12500)\n",
        " "
      ],
      "metadata": {
        "id": "l8cvKjs46YoV",
        "colab": {
          "base_uri": "https://localhost:8080/"
        },
        "outputId": "9a277935-7577-4dee-d5f9-d1567f253046"
      },
      "execution_count": null,
      "outputs": [
        {
          "output_type": "stream",
          "name": "stderr",
          "text": [
            "/usr/local/lib/python3.7/dist-packages/ipykernel_launcher.py:5: UserWarning: `Model.fit_generator` is deprecated and will be removed in a future version. Please use `Model.fit`, which supports generators.\n",
            "  \"\"\"\n"
          ]
        },
        {
          "output_type": "stream",
          "name": "stdout",
          "text": [
            "Epoch 1/25\n",
            "    3/13170 [..............................] - ETA: 28:00:47 - loss: 0.2369 - accuracy: 0.7917"
          ]
        }
      ]
    },
    {
      "cell_type": "code",
      "source": [
        "classifier.fit_generator(training_set, \n",
        "                         steps_per_epoch= 4000,\n",
        "                         epochs = 10,\n",
        "                         validation_data=test_set,\n",
        "                         validation_steps=10)"
      ],
      "metadata": {
        "colab": {
          "base_uri": "https://localhost:8080/"
        },
        "id": "hWpGrYt2MNPQ",
        "outputId": "672228e0-3a47-47be-d865-e18da79c548c"
      },
      "execution_count": null,
      "outputs": [
        {
          "output_type": "stream",
          "name": "stderr",
          "text": [
            "/usr/local/lib/python3.7/dist-packages/ipykernel_launcher.py:5: UserWarning: `Model.fit_generator` is deprecated and will be removed in a future version. Please use `Model.fit`, which supports generators.\n",
            "  \"\"\"\n"
          ]
        },
        {
          "output_type": "stream",
          "name": "stdout",
          "text": [
            "Epoch 1/10\n",
            " 412/4000 [==>...........................] - ETA: 16:45 - loss: 0.0016 - accuracy: 0.9998"
          ]
        },
        {
          "output_type": "stream",
          "name": "stderr",
          "text": [
            "WARNING:tensorflow:Your input ran out of data; interrupting training. Make sure that your dataset or generator can generate at least `steps_per_epoch * epochs` batches (in this case, 40000 batches). You may need to use the repeat() function when building your dataset.\n"
          ]
        },
        {
          "output_type": "stream",
          "name": "stdout",
          "text": [
            "\b\b\b\b\b\b\b\b\b\b\b\b\b\b\b\b\b\b\b\b\b\b\b\b\b\b\b\b\b\b\b\b\b\b\b\b\b\b\b\b\b\b\b\b\b\b\b\b\b\b\b\b\b\b\b\b\b\b\b\b\b\b\b\b\b\b\b\b\b\b\b\b\b\b\b\b\b\b\b\b\b\b\b\b\b\b\b\b\b\r4000/4000 [==============================] - 197s 49ms/step - loss: 0.0016 - accuracy: 0.9998 - val_loss: 1.0790e-24 - val_accuracy: 1.0000\n"
          ]
        },
        {
          "output_type": "execute_result",
          "data": {
            "text/plain": [
              "<keras.callbacks.History at 0x7fc4df657a50>"
            ]
          },
          "metadata": {},
          "execution_count": 8
        }
      ]
    },
    {
      "cell_type": "code",
      "source": [
        "from numpy.lib.shape_base import expand_dims\n",
        "import numpy as np\n",
        "from tensorflow.keras.preprocessing import image\n",
        "\n",
        "test_image = image.load_img('/content/drive/MyDrive/dataset/catOrDog.jpg', target_size = (64, 64))\n",
        "test_image = image.img_to_array(test_image)\n",
        "test_image=np.expand_dims(test_image, axis=0)\n",
        "result = classifier.predict(test_image)\n",
        "training_set.class_indices\n",
        "if result[0][0] == 1:\n",
        "  prediction = 'dog'\n",
        "else:\n",
        "  prediction= 'cat'\n",
        "print(prediction)"
      ],
      "metadata": {
        "id": "wZ539GsNNpPV",
        "colab": {
          "base_uri": "https://localhost:8080/"
        },
        "outputId": "5e93534c-3b84-43d1-c6c8-257cf2fc5b83"
      },
      "execution_count": null,
      "outputs": [
        {
          "output_type": "stream",
          "name": "stdout",
          "text": [
            "1/1 [==============================] - 0s 135ms/step\n",
            "cat\n"
          ]
        }
      ]
    }
  ]
}